{
 "cells": [
  {
   "cell_type": "code",
   "execution_count": 7,
   "id": "painful-brick",
   "metadata": {},
   "outputs": [],
   "source": [
    "import random, copy\n",
    "import cv2\n",
    "import numpy as np\n",
    "import random\n",
    "from skimage.metrics import structural_similarity as ssim"
   ]
  },
  {
   "cell_type": "code",
   "execution_count": 8,
   "id": "handled-wallace",
   "metadata": {},
   "outputs": [],
   "source": [
    "# def objective_function(position):\n",
    "#     # Create binary mask based on threshold value\n",
    "#     threshold_value = position\n",
    "#     _, mask = cv2.threshold(img, threshold_value, 255, cv2.THRESH_BINARY)\n",
    "    \n",
    "#     # Compute percentage of foreground pixels in mask\n",
    "#     n_pixels = mask.flatten().shape[0]\n",
    "#     n_foreground_pixels = np.count_nonzero(mask == 255)\n",
    "#     if n_pixels > 0:\n",
    "#         percent_foreground_pixels = n_foreground_pixels / n_pixels\n",
    "#     else:\n",
    "#         percent_foreground_pixels = 0\n",
    "\n",
    "#     # Return negative of percentage of foreground pixels as fitness value\n",
    "#     return percent_foreground_pixels"
   ]
  },
  {
   "cell_type": "code",
   "execution_count": 67,
   "id": "through-porter",
   "metadata": {},
   "outputs": [],
   "source": [
    "def objective_function(indivudual):\n",
    "    # Create binary mask based on threshold value\n",
    "    ss=[]\n",
    "    for i in range(0,POPULATION_SIZE,8):\n",
    "        res = int(\"\".join(str(x) for x in indivudual[i:i+8]), 2)\n",
    "#         print(res)\n",
    "        threshold_value = res\n",
    "        _, mask = cv2.threshold(img, threshold_value, 255, cv2.THRESH_BINARY)\n",
    "        ss.append(ssim(img,mask))\n",
    "    return ss"
   ]
  },
  {
   "cell_type": "code",
   "execution_count": 10,
   "id": "premier-tunisia",
   "metadata": {},
   "outputs": [],
   "source": [
    "### POPULATION LEVEL ###\n",
    "def gpso_search():\n",
    "    population = create_pop()\n",
    "    personal_best_population = copy.copy(population)\n",
    "    global_best, global_best_fitness = get_best_pop(personal_best_population)\n",
    "    #print(global_best_fitness)\n",
    "    for _ in range(NUM_GENERATIONS):\n",
    "       # print(population,'\\n')\n",
    "        population = convex_combination_pop(population, personal_best_population, [global_best]*POPULATION_SIZE)\n",
    "        population = mutation_pop(population)\n",
    "        personal_best_population = selection_pop(personal_best_population, population)\n",
    "        global_best, global_best_fitness = get_best_pop(personal_best_population)\n",
    "        #print(global_best_fitness)\n",
    "    return (global_best, global_best_fitness) "
   ]
  },
  {
   "cell_type": "code",
   "execution_count": 82,
   "id": "structured-template",
   "metadata": {},
   "outputs": [],
   "source": [
    "### INDIVIDUAL LEVEL ###\n",
    "\n",
    "def create_pop():\n",
    "    return [ create_ind() for _ in range(POPULATION_SIZE) ]\n",
    "def get_best_pop(population):\n",
    "    a=[]\n",
    "    for ind in population:\n",
    "        a.append(objective_function(ind))\n",
    "    best_ind = max(a, key=evaluate_ind)\n",
    "    for i in range(POPULATION_SIZE):\n",
    "        if(best_ind==a[i]):\n",
    "            return population[i],evaluate_ind(best_ind)\n",
    "\n",
    "# def get_best_pop(population):\n",
    "#     best_ind = max(population, key=evaluate_ind)\n",
    "#    # print(best_ind)\n",
    "# #     a=[objective_function(best_inds) for best_inds in best_ind]\n",
    "#     a=[image_entropy(best_inds) for best_inds in best_ind]\n",
    "#     return best_ind,evaluate_ind(a)\n",
    "\n",
    "def convex_combination_pop(pop1, pop2, pop3):\n",
    "    return [ convex_combination_ind([ind1, ind2, ind3]) for (ind1, ind2, ind3) in zip(pop1, pop2, pop3) ]\n",
    "\n",
    "def mutation_pop(population):\n",
    "    return [ mutation_ind(individual) for individual in population ]\n",
    "\n",
    "def selection_pop(pop1, pop2):\n",
    "    return [ max(ind1, ind2, key=evaluate_ind) for (ind1, ind2) in zip(pop1, pop2) ]\n",
    "\n"
   ]
  },
  {
   "cell_type": "code",
   "execution_count": 32,
   "id": "demanding-color",
   "metadata": {},
   "outputs": [],
   "source": [
    "### REPRESENTATION LEVEL ###\n",
    "\n",
    "def create_ind():\n",
    "    return [ random.randint(0,1) for _ in range(INDIVIDUAL_SIZE) ]\n",
    "\n",
    "def evaluate_ind(individual): #one_max\n",
    "    return sum(individual)\n",
    "\n",
    "def convex_combination_ind(mating_pool):\n",
    "    transposed_mating_pool=zip(*mating_pool)\n",
    "    return map(random.choice, transposed_mating_pool)\n",
    "\n",
    "def mutation_ind(individual):\n",
    "    return [ 1-bit if random.random()<1.0/INDIVIDUAL_SIZE else bit for bit in individual ]\n"
   ]
  },
  {
   "cell_type": "code",
   "execution_count": 83,
   "id": "unsigned-baltimore",
   "metadata": {},
   "outputs": [
    {
     "name": "stdout",
     "output_type": "stream",
     "text": [
      "[0, 1, 0, 0, 0, 0, 1, 0, 0, 0, 1, 0, 1, 1, 1, 0, 0, 1, 1, 1, 0, 0, 1, 1, 0, 1, 0, 1, 1, 0, 1, 1]\n",
      "[0.6396921241418356, 0.6264898533777956, 0.6329683448833509, 0.6526280638404884] 2.5517783862434706\n"
     ]
    }
   ],
   "source": [
    "a=[]\n",
    "population=create_pop()\n",
    "for ind in population:\n",
    "    a.append(objective_function(ind))\n",
    "best_ind = max(a, key=evaluate_ind)\n",
    "for i in range(POPULATION_SIZE):\n",
    "    if(best_ind==a[i]):\n",
    "        print(population[i])    \n",
    "print(best_ind,evaluate_ind(best_ind))"
   ]
  },
  {
   "cell_type": "code",
   "execution_count": 72,
   "id": "latin-trader",
   "metadata": {},
   "outputs": [
    {
     "name": "stdout",
     "output_type": "stream",
     "text": [
      "[0, 1, 0, 1, 1, 0, 0, 1, 0, 1, 0, 1, 1, 1, 1, 1, 0, 0, 1, 0, 1, 0, 0, 0, 0, 0, 1, 0, 0, 0, 1, 1]\n"
     ]
    }
   ],
   "source": [
    "for i in range(POPULATION_SIZE):\n",
    "    if(best_ind==a[i]):\n",
    "        print(population[i])"
   ]
  },
  {
   "cell_type": "code",
   "execution_count": 102,
   "id": "therapeutic-combat",
   "metadata": {},
   "outputs": [],
   "source": [
    "NUM_GENERATIONS = 50   \n",
    "POPULATION_SIZE = 25\n",
    "INDIVIDUAL_SIZE = 32\n",
    "img = cv2.imread('1.jpg',0)\n",
    "imgC=cv2.imread('1.jpg')"
   ]
  },
  {
   "cell_type": "code",
   "execution_count": 84,
   "id": "weird-powell",
   "metadata": {},
   "outputs": [],
   "source": [
    "# img_gbr = cv2.imread('1.jpg')\n",
    "# img_gbr = cv2.cvtColor(img_gbr, cv2.COLOR_BGR2HSV) \n",
    "\n",
    "# img = img_gbr[:,:,2]\n",
    "### EXPERIMENTS ###\n",
    "\n",
    "\n",
    "global_best2, global_best_fitness2=gpso_search()"
   ]
  },
  {
   "cell_type": "code",
   "execution_count": 85,
   "id": "filled-magic",
   "metadata": {
    "scrolled": true
   },
   "outputs": [
    {
     "name": "stdout",
     "output_type": "stream",
     "text": [
      "[0, 1, 1, 0, 1, 1, 1, 1, 0, 1, 1, 1, 0, 1, 1, 1, 0, 0, 1, 1, 1, 1, 1, 1, 0, 1, 1, 1, 1, 1, 1, 1]\n"
     ]
    }
   ],
   "source": [
    "print(global_best2)"
   ]
  },
  {
   "cell_type": "code",
   "execution_count": 87,
   "id": "imported-kernel",
   "metadata": {},
   "outputs": [
    {
     "data": {
      "text/plain": [
       "2.4904105439580313"
      ]
     },
     "execution_count": 87,
     "metadata": {},
     "output_type": "execute_result"
    }
   ],
   "source": [
    "global_best_fitness2"
   ]
  },
  {
   "cell_type": "code",
   "execution_count": 167,
   "id": "southwest-internship",
   "metadata": {},
   "outputs": [],
   "source": [
    "for i in range(0,POPULATION_SIZE,8):\n",
    "    res = int(\"\".join(str(x) for x in global_best2[i:i+8]), 2)\n",
    "    threshold_value = res\n",
    "    _, mask = cv2.threshold(img, threshold_value, 255, cv2.THRESH_BINARY)\n",
    "    segmented_image = cv2.bitwise_and(img, img, mask=mask)\n",
    "    segmented = np.copy(imgC)\n",
    "    for i in range(imgC.shape[0]):\n",
    "        for j in range(imgC.shape[1]):\n",
    "            if mask[i][j]==0:\n",
    "                segmented[i,j,:]=[0.0,255.0,0.0]\n",
    "    cv2.imshow(\"Segmented Image_\"+str(res), segmented_image)\n",
    "    cv2.imshow(\"Segmented Image\"+str(res), segmented)\n",
    "    cv2.imshow(\"mask\"+str(res),mask)\n",
    "cv2.waitKey(0)\n",
    "cv2.destroyAllWindows()"
   ]
  },
  {
   "cell_type": "code",
   "execution_count": 164,
   "id": "actual-history",
   "metadata": {},
   "outputs": [
    {
     "data": {
      "text/plain": [
       "(0.0, 255.0, (610, 136), (0, 0))"
      ]
     },
     "execution_count": 164,
     "metadata": {},
     "output_type": "execute_result"
    }
   ],
   "source": [
    "segmented = np.copy(imgC)\n",
    "cv2.minMaxLoc(mask)"
   ]
  },
  {
   "cell_type": "code",
   "execution_count": 165,
   "id": "incorrect-boutique",
   "metadata": {},
   "outputs": [],
   "source": [
    "for i in range(imgC.shape[0]):\n",
    "    for j in range(imgC.shape[1]):\n",
    "        if mask[i][j]==0:\n",
    "            segmented[i,j,:]=[0.0,255.0,0.0]\n"
   ]
  },
  {
   "cell_type": "code",
   "execution_count": 166,
   "id": "every-roots",
   "metadata": {},
   "outputs": [],
   "source": [
    "cv2.imshow(\"Segmented Image\"+str(res), segmented)\n",
    "cv2.imshow(\"mask\"+str(res),mask)\n",
    "cv2.waitKey(0)\n",
    "cv2.destroyAllWindows()"
   ]
  }
 ],
 "metadata": {
  "kernelspec": {
   "display_name": "Python 3",
   "language": "python",
   "name": "python3"
  },
  "language_info": {
   "codemirror_mode": {
    "name": "ipython",
    "version": 3
   },
   "file_extension": ".py",
   "mimetype": "text/x-python",
   "name": "python",
   "nbconvert_exporter": "python",
   "pygments_lexer": "ipython3",
   "version": "3.7.6"
  }
 },
 "nbformat": 4,
 "nbformat_minor": 5
}
