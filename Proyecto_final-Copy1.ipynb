{
 "cells": [
  {
   "cell_type": "code",
   "execution_count": 197,
   "id": "simple-norwegian",
   "metadata": {},
   "outputs": [],
   "source": [
    "import random, copy\n",
    "import cv2\n",
    "import numpy as np\n",
    "import random"
   ]
  },
  {
   "cell_type": "code",
   "execution_count": 198,
   "id": "enormous-penguin",
   "metadata": {},
   "outputs": [],
   "source": [
    "def objective_function(position):\n",
    "    # Create binary mask based on threshold value\n",
    "    threshold_value = position\n",
    "    _, mask = cv2.threshold(img, threshold_value, 255, cv2.THRESH_BINARY)\n",
    "\n",
    "    # Compute percentage of foreground pixels in mask\n",
    "    n_pixels = mask.flatten().shape[0]\n",
    "    n_foreground_pixels = np.count_nonzero(mask == 255)\n",
    "    if n_pixels > 0:\n",
    "        percent_foreground_pixels = n_foreground_pixels / n_pixels\n",
    "    else:\n",
    "        percent_foreground_pixels = 0\n",
    "\n",
    "    # Return negative of percentage of foreground pixels as fitness value\n",
    "    return percent_foreground_pixels"
   ]
  },
  {
   "cell_type": "code",
   "execution_count": 199,
   "id": "sticky-beverage",
   "metadata": {},
   "outputs": [],
   "source": [
    "### POPULATION LEVEL ###\n",
    "def gpso_search():\n",
    "    population = create_pop()\n",
    "    personal_best_population = copy.copy(population)\n",
    "    global_best, global_best_fitness = get_best_pop(personal_best_population)\n",
    "    #print(global_best_fitness)\n",
    "    for _ in range(NUM_GENERATIONS):\n",
    "       # print(population,'\\n')\n",
    "        population = convex_combination_pop(population, personal_best_population, [global_best]*POPULATION_SIZE)\n",
    "        population = mutation_pop(population)\n",
    "        personal_best_population = selection_pop(personal_best_population, population)\n",
    "        global_best, global_best_fitness = get_best_pop(personal_best_population)\n",
    "        #print(global_best_fitness)\n",
    "    return (global_best, global_best_fitness) "
   ]
  },
  {
   "cell_type": "code",
   "execution_count": 200,
   "id": "indie-victoria",
   "metadata": {},
   "outputs": [],
   "source": [
    "### INDIVIDUAL LEVEL ###\n",
    "\n",
    "def create_pop():\n",
    "    return [ create_ind() for _ in range(POPULATION_SIZE) ]\n",
    "\n",
    "def get_best_pop(population):\n",
    "    best_ind = max(population, key=evaluate_ind)\n",
    "   # print(best_ind)\n",
    "    a=[objective_function(best_inds) for best_inds in best_ind]\n",
    "    return a,evaluate_ind(a)\n",
    "\n",
    "def convex_combination_pop(pop1, pop2, pop3):\n",
    "    return [ convex_combination_ind([ind1, ind2, ind3]) for (ind1, ind2, ind3) in zip(pop1, pop2, pop3) ]\n",
    "\n",
    "def mutation_pop(population):\n",
    "    return [ mutation_ind(individual) for individual in population ]\n",
    "\n",
    "def selection_pop(pop1, pop2):\n",
    "    return [ max(ind1, ind2, key=evaluate_ind) for (ind1, ind2) in zip(pop1, pop2) ]\n",
    "\n"
   ]
  },
  {
   "cell_type": "code",
   "execution_count": 201,
   "id": "unlikely-dealer",
   "metadata": {},
   "outputs": [],
   "source": [
    "### REPRESENTATION LEVEL ###\n",
    "\n",
    "def create_ind():\n",
    "    return [ random.randint(0, 255) for _ in range(INDIVIDUAL_SIZE) ]\n",
    "\n",
    "def evaluate_ind(individual): #one_max\n",
    "    return sum(individual)\n",
    "\n",
    "def convex_combination_ind(mating_pool):\n",
    "    transposed_mating_pool=zip(*mating_pool)\n",
    "    return map(random.choice, transposed_mating_pool)\n",
    "\n",
    "def mutation_ind(individual):\n",
    "    return [ 1-bit if random.random()<1.0/INDIVIDUAL_SIZE else bit for bit in individual ]\n"
   ]
  },
  {
   "cell_type": "code",
   "execution_count": 229,
   "id": "everyday-calculation",
   "metadata": {},
   "outputs": [],
   "source": [
    "img = cv2.imread('2.jpg',0)\n",
    "\n",
    "### EXPERIMENTS ###\n",
    "\n",
    "NUM_GENERATIONS = 50\n",
    "POPULATION_SIZE = 100\n",
    "INDIVIDUAL_SIZE = 255\n",
    "global_best2, global_best_fitness2=gpso_search()"
   ]
  },
  {
   "cell_type": "code",
   "execution_count": 230,
   "id": "noble-enforcement",
   "metadata": {},
   "outputs": [
    {
     "name": "stdout",
     "output_type": "stream",
     "text": [
      "54.200826404635954\n"
     ]
    }
   ],
   "source": [
    "print(global_best_fitness2)"
   ]
  },
  {
   "cell_type": "code",
   "execution_count": 231,
   "id": "human-theology",
   "metadata": {},
   "outputs": [],
   "source": [
    "\n",
    "threshold_value = int(global_best_fitness2)\n",
    "_, mask = cv2.threshold(img, threshold_value, 255, cv2.THRESH_BINARY)\n",
    "\n",
    "# Apply mask to original image to create segmented image\n",
    "segmented_image = cv2.bitwise_and(img, img, mask=mask)"
   ]
  },
  {
   "cell_type": "code",
   "execution_count": 232,
   "id": "superior-glass",
   "metadata": {},
   "outputs": [],
   "source": [
    "cv2.imshow(\"Segmented Image2\", segmented_image)\n",
    "cv2.imshow(\"mask\", mask)\n",
    "cv2.waitKey(0)\n",
    "cv2.destroyAllWindows()"
   ]
  }
 ],
 "metadata": {
  "kernelspec": {
   "display_name": "Python 3",
   "language": "python",
   "name": "python3"
  },
  "language_info": {
   "codemirror_mode": {
    "name": "ipython",
    "version": 3
   },
   "file_extension": ".py",
   "mimetype": "text/x-python",
   "name": "python",
   "nbconvert_exporter": "python",
   "pygments_lexer": "ipython3",
   "version": "3.7.6"
  }
 },
 "nbformat": 4,
 "nbformat_minor": 5
}
