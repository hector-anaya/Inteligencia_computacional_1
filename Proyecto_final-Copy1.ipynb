{
 "cells": [
  {
   "cell_type": "code",
   "execution_count": 583,
   "id": "painful-brick",
   "metadata": {},
   "outputs": [],
   "source": [
    "import random, copy\n",
    "import cv2\n",
    "import numpy as np\n",
    "import random"
   ]
  },
  {
   "cell_type": "code",
   "execution_count": 584,
   "id": "handled-wallace",
   "metadata": {},
   "outputs": [],
   "source": [
    "def objective_function(position):\n",
    "    # Create binary mask based on threshold value\n",
    "    threshold_value = position\n",
    "    _, mask = cv2.threshold(img, threshold_value, 255, cv2.THRESH_BINARY)\n",
    "\n",
    "    # Compute percentage of foreground pixels in mask\n",
    "    n_pixels = mask.flatten().shape[0]\n",
    "    n_foreground_pixels = np.count_nonzero(mask == 255)\n",
    "    if n_pixels > 0:\n",
    "        percent_foreground_pixels = n_foreground_pixels / n_pixels\n",
    "    else:\n",
    "        percent_foreground_pixels = 0\n",
    "\n",
    "    # Return negative of percentage of foreground pixels as fitness value\n",
    "    return percent_foreground_pixels"
   ]
  },
  {
   "cell_type": "code",
   "execution_count": 585,
   "id": "premier-tunisia",
   "metadata": {},
   "outputs": [],
   "source": [
    "### POPULATION LEVEL ###\n",
    "def gpso_search():\n",
    "    population = create_pop()\n",
    "    personal_best_population = copy.copy(population)\n",
    "    global_best, global_best_fitness = get_best_pop(personal_best_population)\n",
    "    #print(global_best_fitness)\n",
    "    for _ in range(NUM_GENERATIONS):\n",
    "       # print(population,'\\n')\n",
    "        #population = convex_combination_pop(population, personal_best_population, [global_best]*POPULATION_SIZE)\n",
    "        population = mutation_pop(population)\n",
    "        personal_best_population = selection_pop(personal_best_population, population)\n",
    "        global_best, global_best_fitness = get_best_pop(personal_best_population)\n",
    "        #print(global_best_fitness)\n",
    "    return (global_best, global_best_fitness) "
   ]
  },
  {
   "cell_type": "code",
   "execution_count": 586,
   "id": "structured-template",
   "metadata": {},
   "outputs": [],
   "source": [
    "### INDIVIDUAL LEVEL ###\n",
    "\n",
    "def create_pop():\n",
    "    return [ create_ind() for _ in range(POPULATION_SIZE) ]\n",
    "def get_best_pop(population):\n",
    "    a=[]\n",
    "    population=create_pop()\n",
    "    for pop in population:\n",
    "        a.append([objective_function(pops) for pops in pop])\n",
    "    best_ind = max(a, key=evaluate_ind)\n",
    "    for i in range(POPULATION_SIZE):\n",
    "        if(best_ind==a[i]):\n",
    "            return population[i],evaluate_ind(best_ind)\n",
    "\n",
    "# def get_best_pop(population):\n",
    "#     best_ind = max(population, key=evaluate_ind)\n",
    "#    # print(best_ind)\n",
    "# #     a=[objective_function(best_inds) for best_inds in best_ind]\n",
    "#     a=[image_entropy(best_inds) for best_inds in best_ind]\n",
    "#     return best_ind,evaluate_ind(a)\n",
    "\n",
    "def convex_combination_pop(pop1, pop2, pop3):\n",
    "    return [ convex_combination_ind([ind1, ind2, ind3]) for (ind1, ind2, ind3) in zip(pop1, pop2, pop3) ]\n",
    "\n",
    "def mutation_pop(population):\n",
    "    return [ mutation_ind(individual) for individual in population ]\n",
    "\n",
    "def selection_pop(pop1, pop2):\n",
    "    return [ max(ind1, ind2, key=evaluate_ind) for (ind1, ind2) in zip(pop1, pop2) ]\n",
    "\n"
   ]
  },
  {
   "cell_type": "code",
   "execution_count": 587,
   "id": "demanding-color",
   "metadata": {},
   "outputs": [],
   "source": [
    "### REPRESENTATION LEVEL ###\n",
    "\n",
    "def create_ind():\n",
    "    return [ random.randint(0, 255) for _ in range(INDIVIDUAL_SIZE) ]\n",
    "\n",
    "def evaluate_ind(individual): #one_max\n",
    "    return sum(individual)\n",
    "\n",
    "def convex_combination_ind(mating_pool):\n",
    "    transposed_mating_pool=zip(*mating_pool)\n",
    "    return map(random.choice, transposed_mating_pool)\n",
    "\n",
    "def mutation_ind(individual):\n",
    "    return [ 1-bit if random.random()<1.0/INDIVIDUAL_SIZE else bit for bit in individual ]\n"
   ]
  },
  {
   "cell_type": "code",
   "execution_count": 588,
   "id": "sunset-choice",
   "metadata": {},
   "outputs": [],
   "source": [
    "import math\n",
    "\n",
    "def image_entropy(position):\n",
    "    _, mask = cv2.threshold(img, position, 255, cv2.THRESH_BINARY)\n",
    "    segmented_image = cv2.bitwise_and(img, img, mask=mask)\n",
    "    # Calculate the histogram\n",
    "    hist = cv2.calcHist([segmented_image], [0], None, [256], [0, 256])\n",
    "\n",
    "    # Normalize the histogram so it sums to 1\n",
    "    hist /= float(segmented_image.size)\n",
    "\n",
    "    # Calculate the entropy\n",
    "    entropy = 0\n",
    "    for item in hist:\n",
    "        if item != 0:\n",
    "            entropy -= item * math.log2(item)\n",
    "\n",
    "    return entropy"
   ]
  },
  {
   "cell_type": "code",
   "execution_count": 589,
   "id": "finite-holly",
   "metadata": {},
   "outputs": [],
   "source": [
    "best_ind = min(create_pop(), key=evaluate_ind)"
   ]
  },
  {
   "cell_type": "code",
   "execution_count": 590,
   "id": "protected-remark",
   "metadata": {},
   "outputs": [
    {
     "data": {
      "text/plain": [
       "[0.848191774662363, 0.9789709495591848, 0.9927333750863163, 0.8277809895456955]"
      ]
     },
     "execution_count": 590,
     "metadata": {},
     "output_type": "execute_result"
    }
   ],
   "source": [
    "[objective_function(best_inds) for best_inds in best_ind]"
   ]
  },
  {
   "cell_type": "code",
   "execution_count": 591,
   "id": "frank-virgin",
   "metadata": {},
   "outputs": [
    {
     "data": {
      "text/plain": [
       "[114, 15, 3, 118]"
      ]
     },
     "execution_count": 591,
     "metadata": {},
     "output_type": "execute_result"
    }
   ],
   "source": [
    "best_ind"
   ]
  },
  {
   "cell_type": "code",
   "execution_count": 592,
   "id": "distinguished-essence",
   "metadata": {},
   "outputs": [
    {
     "data": {
      "text/plain": [
       "[[190, 82, 231, 92],\n",
       " [173, 114, 30, 170],\n",
       " [185, 110, 192, 124],\n",
       " [191, 201, 236, 88],\n",
       " [242, 239, 138, 62],\n",
       " [21, 5, 161, 142],\n",
       " [67, 87, 192, 244],\n",
       " [163, 214, 95, 0],\n",
       " [178, 254, 155, 56],\n",
       " [143, 154, 73, 241],\n",
       " [148, 220, 194, 23],\n",
       " [112, 195, 108, 245],\n",
       " [232, 118, 2, 144],\n",
       " [100, 11, 208, 137],\n",
       " [173, 129, 151, 187],\n",
       " [237, 114, 47, 86],\n",
       " [54, 242, 93, 180],\n",
       " [203, 112, 86, 168],\n",
       " [47, 65, 139, 176],\n",
       " [68, 177, 51, 202],\n",
       " [97, 132, 245, 235],\n",
       " [89, 255, 170, 199],\n",
       " [205, 235, 87, 107],\n",
       " [201, 250, 182, 253],\n",
       " [206, 147, 239, 11]]"
      ]
     },
     "execution_count": 592,
     "metadata": {},
     "output_type": "execute_result"
    }
   ],
   "source": [
    "selection_pop(create_pop(),create_pop())"
   ]
  },
  {
   "cell_type": "code",
   "execution_count": 593,
   "id": "infectious-scholarship",
   "metadata": {},
   "outputs": [
    {
     "data": {
      "text/plain": [
       "[97, 89, 91, 20]"
      ]
     },
     "execution_count": 593,
     "metadata": {},
     "output_type": "execute_result"
    }
   ],
   "source": [
    "min(create_pop(), key=evaluate_ind)"
   ]
  },
  {
   "cell_type": "code",
   "execution_count": 594,
   "id": "sacred-valley",
   "metadata": {},
   "outputs": [
    {
     "data": {
      "text/plain": [
       "([9, 6, 44, 52], 3.8721796662973134)"
      ]
     },
     "execution_count": 594,
     "metadata": {},
     "output_type": "execute_result"
    }
   ],
   "source": [
    "get_best_pop(create_pop())"
   ]
  },
  {
   "cell_type": "code",
   "execution_count": 595,
   "id": "under-prescription",
   "metadata": {},
   "outputs": [
    {
     "name": "stdout",
     "output_type": "stream",
     "text": [
      "[3, 16, 2, 40]\n",
      "[0.9927333750863163, 0.977826757238522, 0.9937410672704791, 0.954577572224631] 3.9188787718199487\n"
     ]
    }
   ],
   "source": [
    "a=[]\n",
    "population=create_pop()\n",
    "for pop in population:\n",
    "    a.append([objective_function(pops) for pops in pop])\n",
    "best_ind = max(a, key=evaluate_ind)\n",
    "for i in range(POPULATION_SIZE):\n",
    "    if(best_ind==a[i]):\n",
    "        print(population[i])    \n",
    "print(best_ind,evaluate_ind(best_ind))"
   ]
  },
  {
   "cell_type": "code",
   "execution_count": 596,
   "id": "unable-marina",
   "metadata": {},
   "outputs": [
    {
     "name": "stdout",
     "output_type": "stream",
     "text": [
      "[3, 16, 2, 40]\n"
     ]
    }
   ],
   "source": [
    "for i in range(POPULATION_SIZE):\n",
    "    if(best_ind==a[i]):\n",
    "        print(population[i])"
   ]
  },
  {
   "cell_type": "code",
   "execution_count": 597,
   "id": "weird-powell",
   "metadata": {},
   "outputs": [],
   "source": [
    "img = cv2.imread('1.jpg',0)\n",
    "\n",
    "### EXPERIMENTS ###\n",
    "\n",
    "NUM_GENERATIONS = 100   \n",
    "POPULATION_SIZE = 25\n",
    "INDIVIDUAL_SIZE = 4\n",
    "global_best2, global_best_fitness2=gpso_search()"
   ]
  },
  {
   "cell_type": "code",
   "execution_count": 598,
   "id": "filled-magic",
   "metadata": {
    "scrolled": true
   },
   "outputs": [
    {
     "name": "stdout",
     "output_type": "stream",
     "text": [
      "[106, 59, 11, 62]\n"
     ]
    }
   ],
   "source": [
    "print(global_best2)"
   ]
  },
  {
   "cell_type": "code",
   "execution_count": 599,
   "id": "southwest-internship",
   "metadata": {},
   "outputs": [],
   "source": [
    "for i in range(INDIVIDUAL_SIZE):\n",
    "    threshold_value = int(global_best2[i])\n",
    "    _, mask = cv2.threshold(img, threshold_value, 255, cv2.THRESH_BINARY)\n",
    "    segmented_image = cv2.bitwise_and(img, img, mask=mask)\n",
    "    cv2.imshow(\"Segmented Image\"+str(i), segmented_image)\n",
    "    cv2.imshow(\"mask\"+str(i),mask)\n",
    "cv2.waitKey(0)\n",
    "cv2.destroyAllWindows()"
   ]
  }
 ],
 "metadata": {
  "kernelspec": {
   "display_name": "Python 3",
   "language": "python",
   "name": "python3"
  },
  "language_info": {
   "codemirror_mode": {
    "name": "ipython",
    "version": 3
   },
   "file_extension": ".py",
   "mimetype": "text/x-python",
   "name": "python",
   "nbconvert_exporter": "python",
   "pygments_lexer": "ipython3",
   "version": "3.7.6"
  }
 },
 "nbformat": 4,
 "nbformat_minor": 5
}
